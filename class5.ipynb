{
  "nbformat": 4,
  "nbformat_minor": 0,
  "metadata": {
    "colab": {
      "name": "class5.ipynb",
      "provenance": [],
      "authorship_tag": "ABX9TyNprUxNlWDcJ//v3JZroc6Y",
      "include_colab_link": true
    },
    "kernelspec": {
      "name": "python3",
      "display_name": "Python 3"
    }
  },
  "cells": [
    {
      "cell_type": "markdown",
      "metadata": {
        "id": "view-in-github",
        "colab_type": "text"
      },
      "source": [
        "<a href=\"https://colab.research.google.com/github/jeyakartheesan/PythonProgram/blob/master/class5.ipynb\" target=\"_parent\"><img src=\"https://colab.research.google.com/assets/colab-badge.svg\" alt=\"Open In Colab\"/></a>"
      ]
    },
    {
      "cell_type": "markdown",
      "metadata": {
        "id": "LSX1vCyVSXVo"
      },
      "source": [
        "# Scope"
      ]
    },
    {
      "cell_type": "markdown",
      "metadata": {
        "id": "RhRHpw6OQZlJ"
      },
      "source": [
        "## Gobal Variable"
      ]
    },
    {
      "cell_type": "code",
      "metadata": {
        "id": "VijthVNYQeFl",
        "colab": {
          "base_uri": "https://localhost:8080/",
          "height": 52
        },
        "outputId": "7c3b70f7-75fc-4b95-ee49-913828a08d7d"
      },
      "source": [
        "x = \"global\"\n",
        "\n",
        "def foo():\n",
        "    print(\"x inside:\", x)\n",
        "\n",
        "\n",
        "foo()\n",
        "print(\"x outside:\", x)"
      ],
      "execution_count": null,
      "outputs": [
        {
          "output_type": "stream",
          "text": [
            "x inside: global\n",
            "x outside: global\n"
          ],
          "name": "stdout"
        }
      ]
    },
    {
      "cell_type": "code",
      "metadata": {
        "id": "9pXNSVH_QiGA",
        "colab": {
          "base_uri": "https://localhost:8080/",
          "height": 34
        },
        "outputId": "4746235b-4c5b-45f7-8f46-6fe7aa0d511a"
      },
      "source": [
        "x= \"global \"\n",
        "\n",
        "def foo():\n",
        "  global x\n",
        "  x = x * 2\n",
        "  print(x)\n",
        "\n",
        "foo()"
      ],
      "execution_count": null,
      "outputs": [
        {
          "output_type": "stream",
          "text": [
            "global global \n"
          ],
          "name": "stdout"
        }
      ]
    },
    {
      "cell_type": "code",
      "metadata": {
        "id": "4Z70hoF4QlXV",
        "colab": {
          "base_uri": "https://localhost:8080/",
          "height": 70
        },
        "outputId": "89e4d724-13da-41fa-a599-6e5109405a99"
      },
      "source": [
        "x=20\n",
        "def fun():\n",
        "  global x\n",
        "  x=10\n",
        "  print('Inner Function values: ',x)\n",
        "\n",
        "  \n",
        "print('Outer of the Function value : ',x)\n",
        "fun()\n",
        "print('Outer of the Function value : ',x)"
      ],
      "execution_count": null,
      "outputs": [
        {
          "output_type": "stream",
          "text": [
            "Outer of the Function value :  20\n",
            "Inner Function values:  10\n",
            "Outer of the Function value :  10\n"
          ],
          "name": "stdout"
        }
      ]
    },
    {
      "cell_type": "code",
      "metadata": {
        "id": "aNkVurtbRBBR"
      },
      "source": [
        ""
      ],
      "execution_count": null,
      "outputs": []
    },
    {
      "cell_type": "markdown",
      "metadata": {
        "id": "j4noZakaRee0"
      },
      "source": [
        "## Local Variables"
      ]
    },
    {
      "cell_type": "code",
      "metadata": {
        "id": "CC4rinTSRfpm",
        "colab": {
          "base_uri": "https://localhost:8080/",
          "height": 34
        },
        "outputId": "7e39f2b5-1630-41be-ce03-65f7b38069a4"
      },
      "source": [
        "def foo():\n",
        "    y = \"local\"\n",
        "    print(y)\n",
        "\n",
        "\n",
        "foo()\n"
      ],
      "execution_count": null,
      "outputs": [
        {
          "output_type": "stream",
          "text": [
            "local\n"
          ],
          "name": "stdout"
        }
      ]
    },
    {
      "cell_type": "code",
      "metadata": {
        "id": "cWY4ExoeRh_M",
        "colab": {
          "base_uri": "https://localhost:8080/",
          "height": 34
        },
        "outputId": "c17a6076-e826-4d19-c178-62aa8b358a36"
      },
      "source": [
        "def foo():\n",
        "    y = \"local\"\n",
        "    print(y)\n",
        "\n",
        "foo()"
      ],
      "execution_count": null,
      "outputs": [
        {
          "output_type": "stream",
          "text": [
            "local\n"
          ],
          "name": "stdout"
        }
      ]
    },
    {
      "cell_type": "code",
      "metadata": {
        "id": "vGkX5BE6Rlno",
        "colab": {
          "base_uri": "https://localhost:8080/",
          "height": 52
        },
        "outputId": "ec5f85e4-a714-47ca-9930-74ea352888a3"
      },
      "source": [
        "x = \"global \"\n",
        "\n",
        "def foo():\n",
        "    global x\n",
        "    y = \"local\"\n",
        "    x = x * 2\n",
        "    print(x)\n",
        "    print(y)\n",
        "\n",
        "foo()"
      ],
      "execution_count": null,
      "outputs": [
        {
          "output_type": "stream",
          "text": [
            "global global \n",
            "local\n"
          ],
          "name": "stdout"
        }
      ]
    },
    {
      "cell_type": "code",
      "metadata": {
        "id": "czjo6_knRrSh",
        "colab": {
          "base_uri": "https://localhost:8080/",
          "height": 52
        },
        "outputId": "a1a477fc-2f4f-4206-8bd4-7f2ec8c87aa9"
      },
      "source": [
        "x = 5\n",
        "\n",
        "def foo():\n",
        "    x = 10\n",
        "    print(\"local x:\", x)\n",
        "\n",
        "\n",
        "foo()\n",
        "print(\"global x:\", x)"
      ],
      "execution_count": null,
      "outputs": [
        {
          "output_type": "stream",
          "text": [
            "local x: 10\n",
            "global x: 5\n"
          ],
          "name": "stdout"
        }
      ]
    },
    {
      "cell_type": "code",
      "metadata": {
        "id": "usjCz-iWR3Eq"
      },
      "source": [
        ""
      ],
      "execution_count": null,
      "outputs": []
    },
    {
      "cell_type": "markdown",
      "metadata": {
        "id": "xlKPKByVR8Gh"
      },
      "source": [
        "## Nonlocal Variables"
      ]
    },
    {
      "cell_type": "code",
      "metadata": {
        "id": "puqzFyCvR83U",
        "colab": {
          "base_uri": "https://localhost:8080/",
          "height": 52
        },
        "outputId": "a69fbf10-8a44-4d9f-a568-8e02561db979"
      },
      "source": [
        "def outer():\n",
        "    x = \"local\"\n",
        "    def inner():\n",
        "        nonlocal x\n",
        "        x = \"nonlocal\"\n",
        "        print(\"inner:\", x)\n",
        "    inner()\n",
        "    print(\"outer:\", x)\n",
        "outer()\n"
      ],
      "execution_count": null,
      "outputs": [
        {
          "output_type": "stream",
          "text": [
            "inner: nonlocal\n",
            "outer: nonlocal\n"
          ],
          "name": "stdout"
        }
      ]
    },
    {
      "cell_type": "code",
      "metadata": {
        "id": "griBxjMSR_5p"
      },
      "source": [
        ""
      ],
      "execution_count": null,
      "outputs": []
    }
  ]
}