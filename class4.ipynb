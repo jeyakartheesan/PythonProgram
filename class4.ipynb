{
  "nbformat": 4,
  "nbformat_minor": 0,
  "metadata": {
    "colab": {
      "name": "class4.ipynb",
      "provenance": [],
      "toc_visible": true,
      "authorship_tag": "ABX9TyMWSf5xNYIWYwceH1tq81QW",
      "include_colab_link": true
    },
    "kernelspec": {
      "name": "python3",
      "display_name": "Python 3"
    }
  },
  "cells": [
    {
      "cell_type": "markdown",
      "metadata": {
        "id": "view-in-github",
        "colab_type": "text"
      },
      "source": [
        "<a href=\"https://colab.research.google.com/github/jeyakartheesan/PythonProgram/blob/master/class4.ipynb\" target=\"_parent\"><img src=\"https://colab.research.google.com/assets/colab-badge.svg\" alt=\"Open In Colab\"/></a>"
      ]
    },
    {
      "cell_type": "markdown",
      "metadata": {
        "id": "PkQBu1iRvXjH"
      },
      "source": [
        "## Class and Object"
      ]
    },
    {
      "cell_type": "code",
      "metadata": {
        "id": "LbRRNJa2vfpe",
        "colab": {
          "base_uri": "https://localhost:8080/",
          "height": 52
        },
        "outputId": "716b4291-b847-4b16-b6a6-14e77a619843"
      },
      "source": [
        "### Class Syntax  ####\n",
        "\n",
        "\"\"\"\"\n",
        "class className:\n",
        "  #Variable and methods\n",
        "\"\"\"\n",
        "\n",
        "class Demo:\n",
        "  print('Hello World')\n",
        "a=Demo\n",
        "a()\n",
        "print(type(Demo()))"
      ],
      "execution_count": null,
      "outputs": [
        {
          "output_type": "stream",
          "text": [
            "Hello World\n",
            "<class '__main__.Demo'>\n"
          ],
          "name": "stdout"
        }
      ]
    },
    {
      "cell_type": "code",
      "metadata": {
        "id": "pXS0OgAqv5Fw",
        "colab": {
          "base_uri": "https://localhost:8080/",
          "height": 34
        },
        "outputId": "59ba8d7b-2048-49c3-e1d4-aebfd0b49de0"
      },
      "source": [
        "class Function:\n",
        "  def fun1():\n",
        "    print('Hello World')\n",
        "Function.fun1()"
      ],
      "execution_count": null,
      "outputs": [
        {
          "output_type": "stream",
          "text": [
            "Hello World\n"
          ],
          "name": "stdout"
        }
      ]
    },
    {
      "cell_type": "code",
      "metadata": {
        "id": "sB5IOtX3wLDb",
        "colab": {
          "base_uri": "https://localhost:8080/",
          "height": 34
        },
        "outputId": "582eb400-f546-4e33-beee-8f5866d70ca5"
      },
      "source": [
        "class Function:\n",
        "  def fun1(self):\n",
        "    print('Hello World')\n",
        "class d:\n",
        "  pass\n",
        "Function.fun1(d)"
      ],
      "execution_count": null,
      "outputs": [
        {
          "output_type": "stream",
          "text": [
            "Hello World\n"
          ],
          "name": "stdout"
        }
      ]
    },
    {
      "cell_type": "code",
      "metadata": {
        "id": "5yl5Y_FnCJTp",
        "colab": {
          "base_uri": "https://localhost:8080/",
          "height": 52
        },
        "outputId": "02bc9b97-8ce8-4ffc-bd5c-f8b7d693b470"
      },
      "source": [
        "class Fun1:\n",
        "  def fun(self):\n",
        "    print('Hello World')\n",
        "class Fun2:\n",
        "  def fun(self):\n",
        "    print('JK')\n",
        "Fun1.fun(Fun2)\n",
        "Fun2.fun(Fun1)"
      ],
      "execution_count": null,
      "outputs": [
        {
          "output_type": "stream",
          "text": [
            "Hello World\n",
            "JK\n"
          ],
          "name": "stdout"
        }
      ]
    },
    {
      "cell_type": "code",
      "metadata": {
        "id": "eNYV4OYMCbw0",
        "colab": {
          "base_uri": "https://localhost:8080/",
          "height": 70
        },
        "outputId": "3f50820d-2cdb-4e25-82fa-f0c6992ddeac"
      },
      "source": [
        "class Fun:\n",
        "  def a():\n",
        "    print('jk')\n",
        "  def __init__(self): \n",
        "    print('welcome')\n",
        "    Fun.a()\n",
        "    \n",
        "    \n",
        "  \n",
        "x=Fun()\n",
        "Fun.a()"
      ],
      "execution_count": null,
      "outputs": [
        {
          "output_type": "stream",
          "text": [
            "welcome\n",
            "jk\n",
            "jk\n"
          ],
          "name": "stdout"
        }
      ]
    },
    {
      "cell_type": "code",
      "metadata": {
        "id": "-BNP38YVC270",
        "colab": {
          "base_uri": "https://localhost:8080/",
          "height": 34
        },
        "outputId": "f6b76ca6-3906-4aee-b4a9-ba3e50b36bc4"
      },
      "source": [
        "class Fun:\n",
        "  x=10\n",
        "  def __init__(self,name):\n",
        "    print(f'your name is {name}')\n",
        "x=Fun(['jk','Good'])\n"
      ],
      "execution_count": null,
      "outputs": [
        {
          "output_type": "stream",
          "text": [
            "your name is ['jk', 'Good']\n"
          ],
          "name": "stdout"
        }
      ]
    },
    {
      "cell_type": "markdown",
      "metadata": {
        "id": "d8ANypQQOeDb"
      },
      "source": [
        "## Inheritance"
      ]
    },
    {
      "cell_type": "code",
      "metadata": {
        "id": "6q5jr_eQDtL_"
      },
      "source": [
        "class Fun():\n",
        "  def parent(name):\n",
        "    print(\"Parent call Function name is\",name)\n",
        "class Fun2(Fun):\n",
        "  def child(name):\n",
        "    print('Child call Function name is ',name)\n",
        "\n",
        "  "
      ],
      "execution_count": null,
      "outputs": []
    },
    {
      "cell_type": "code",
      "metadata": {
        "id": "eBc2BSHxF5FL",
        "colab": {
          "base_uri": "https://localhost:8080/",
          "height": 70
        },
        "outputId": "e2e14841-6402-453c-b3e1-535b6f78c890"
      },
      "source": [
        "obj=Fun2.parent('jk')\n",
        "print(obj)\n",
        "obj=Fun2.child('jivitha')"
      ],
      "execution_count": null,
      "outputs": [
        {
          "output_type": "stream",
          "text": [
            "Parent call Function name is jk\n",
            "None\n",
            "Child call Function name is  jivitha\n"
          ],
          "name": "stdout"
        }
      ]
    },
    {
      "cell_type": "code",
      "metadata": {
        "id": "MDcSSnzcF8vm"
      },
      "source": [
        "class Fun(Fun2):\n",
        "  def parent(name):\n",
        "    print(\"Parent call Function name is\",name)\n",
        "class Fun2(Fun):\n",
        "  def child(name):\n",
        "    print('Child call Function name is ',name)"
      ],
      "execution_count": null,
      "outputs": []
    },
    {
      "cell_type": "code",
      "metadata": {
        "id": "Tx4zRR2CIwsu",
        "colab": {
          "base_uri": "https://localhost:8080/",
          "height": 52
        },
        "outputId": "afabb3b2-04cc-4801-fc13-a360b9506569"
      },
      "source": [
        "obj=Fun2.parent('jk')\n",
        "obj=Fun.child('jivitha')\n"
      ],
      "execution_count": null,
      "outputs": [
        {
          "output_type": "stream",
          "text": [
            "Parent call Function name is jk\n",
            "Child call Function name is  jivitha\n"
          ],
          "name": "stdout"
        }
      ]
    },
    {
      "cell_type": "code",
      "metadata": {
        "id": "jX6lBm1YIzD_",
        "colab": {
          "base_uri": "https://localhost:8080/",
          "height": 52
        },
        "outputId": "d6fd1867-649e-4d61-93d8-6a9a890fa6d6"
      },
      "source": [
        "class Person:\n",
        "  def __init__(self, fname, lname):\n",
        "    self.firstname = fname\n",
        "    self.lastname = lname\n",
        "  def printname(self):\n",
        "    print(self.firstname, self.lastname)\n",
        "\n",
        "#Use the Person class to create an object, and then execute the printname method:\n",
        "\n",
        "x = Person(\"John\", \"Doe\")\n",
        "x.printname()\n",
        "print(Person('jk1','jk2').firstname,Person('jk1','jk2').lastname)"
      ],
      "execution_count": null,
      "outputs": [
        {
          "output_type": "stream",
          "text": [
            "John Doe\n",
            "jk1 jk2\n"
          ],
          "name": "stdout"
        }
      ]
    },
    {
      "cell_type": "code",
      "metadata": {
        "id": "qaXgTzF6JIv2",
        "colab": {
          "base_uri": "https://localhost:8080/",
          "height": 52
        },
        "outputId": "61925376-56b7-420f-fd07-b3580fd1f52b"
      },
      "source": [
        "class Fun:\n",
        "  n='jkjk'\n",
        "  def __init__(self):\n",
        "    self.name='jk'\n",
        "    self.age=20\n",
        "print(f'Name : {Fun().name} \\n Age : {Fun().age} outer : {Fun.n}')"
      ],
      "execution_count": null,
      "outputs": [
        {
          "output_type": "stream",
          "text": [
            "Name : jk \n",
            " Age : 20 outer : jkjk\n"
          ],
          "name": "stdout"
        }
      ]
    },
    {
      "cell_type": "code",
      "metadata": {
        "id": "oETPCv0dKBLx",
        "colab": {
          "base_uri": "https://localhost:8080/",
          "height": 34
        },
        "outputId": "cb9bc1b8-acba-4358-c57c-f5f8161b6f0c"
      },
      "source": [
        "class Parent:\n",
        "  def __init__(self,name,age):\n",
        "    self.name=name\n",
        "    self.age=age\n",
        "  def call(self):\n",
        "    print(f'Name is : {self.name} and age is : {self.age}')\n",
        "class Child(Parent):\n",
        "  def __init__(self,name,age):\n",
        "    Parent.__init__(self,name,age)\n",
        "x=Child('jk',20)\n",
        "x.call()"
      ],
      "execution_count": null,
      "outputs": [
        {
          "output_type": "stream",
          "text": [
            "Name is : jk and age is : 20\n"
          ],
          "name": "stdout"
        }
      ]
    },
    {
      "cell_type": "code",
      "metadata": {
        "id": "mqdrhUzXMhDS",
        "colab": {
          "base_uri": "https://localhost:8080/",
          "height": 34
        },
        "outputId": "ee4f409c-dfcc-42ed-de02-997b26fa646b"
      },
      "source": [
        "class Parent:\n",
        "  def __init__(self,name,age):\n",
        "    self.name=name\n",
        "    self.age=age\n",
        "  def call(self):\n",
        "    print(f'Name is : {self.name} and age is : {self.age}')\n",
        "class Child(Parent):\n",
        "  def __init__(self,name,age):\n",
        "    super().__init__(name,age)\n",
        "x=Child('jk',20)\n",
        "x.call()"
      ],
      "execution_count": null,
      "outputs": [
        {
          "output_type": "stream",
          "text": [
            "Name is : jk and age is : 20\n"
          ],
          "name": "stdout"
        }
      ]
    },
    {
      "cell_type": "code",
      "metadata": {
        "id": "EdvEmqjMNKmK",
        "colab": {
          "base_uri": "https://localhost:8080/",
          "height": 34
        },
        "outputId": "87a9e4cf-f5e4-49a7-a3dc-33524cdc4b1c"
      },
      "source": [
        "class demo:\n",
        "  pass\n",
        "x=demo\n",
        "x.a=10\n",
        "print(x.a)"
      ],
      "execution_count": null,
      "outputs": [
        {
          "output_type": "stream",
          "text": [
            "10\n"
          ],
          "name": "stdout"
        }
      ]
    },
    {
      "cell_type": "code",
      "metadata": {
        "id": "o0SLUgmBNo3y",
        "colab": {
          "base_uri": "https://localhost:8080/",
          "height": 34
        },
        "outputId": "b301479e-7b53-4970-8f2b-c7f49c6c61b6"
      },
      "source": [
        "print(demo)\n",
        "del demo\n"
      ],
      "execution_count": null,
      "outputs": [
        {
          "output_type": "stream",
          "text": [
            "<class '__main__.demo'>\n"
          ],
          "name": "stdout"
        }
      ]
    },
    {
      "cell_type": "code",
      "metadata": {
        "id": "NF0s27v6NweU",
        "colab": {
          "base_uri": "https://localhost:8080/",
          "height": 52
        },
        "outputId": "3711858d-50c2-4aea-a487-2617d82c60f1"
      },
      "source": [
        "class Person:\n",
        "  def __init__(self, fname, lname):\n",
        "    self.firstname = fname\n",
        "    self.lastname = lname\n",
        "\n",
        "  def printname(self):\n",
        "    print(self.firstname, self.lastname)\n",
        "\n",
        "class Student(Person):\n",
        "  def __init__(self, fname, lname, year):\n",
        "    super().__init__(fname, lname)\n",
        "    self.graduationyear = year\n",
        "\n",
        "  def welcome(self):\n",
        "    print(\"Welcome\", self.firstname, self.lastname, \"to the class of\", self.graduationyear)\n",
        "\n",
        "x = Student(\"jk\", \"kj\", 2019)\n",
        "x.welcome()\n",
        "x.printname()\n"
      ],
      "execution_count": null,
      "outputs": [
        {
          "output_type": "stream",
          "text": [
            "Welcome jk kj to the class of 2019\n",
            "jk kj\n"
          ],
          "name": "stdout"
        }
      ]
    },
    {
      "cell_type": "code",
      "metadata": {
        "id": "u4QzKmRZN7Lr",
        "colab": {
          "base_uri": "https://localhost:8080/",
          "height": 34
        },
        "outputId": "a0c11ac5-40d1-4ff0-bbe4-913e2cc506be"
      },
      "source": [
        "class Class1: \n",
        "\tdef m(self): \n",
        "\t\tprint(\"In Class1\") \n",
        "\t\t\n",
        "class Class2(Class1): \n",
        "\tdef m(self): \n",
        "\t\tprint(\"In Class2\") \n",
        "\n",
        "class Class3(Class1): \n",
        "\tdef m(self): \n",
        "\t\tprint(\"In Class3\") \n",
        "\t\t\n",
        "class Class4(Class2, Class3): \n",
        "\tpass\n",
        "\t\n",
        "obj = Class4() \n",
        "obj.m() \n"
      ],
      "execution_count": null,
      "outputs": [
        {
          "output_type": "stream",
          "text": [
            "In Class2\n"
          ],
          "name": "stdout"
        }
      ]
    },
    {
      "cell_type": "code",
      "metadata": {
        "id": "3dzEq5ofnbXM",
        "colab": {
          "base_uri": "https://localhost:8080/",
          "height": 87
        },
        "outputId": "855d337c-fdba-4d28-ca71-9493d76ceb11"
      },
      "source": [
        "class Class1: \n",
        "\tdef m(self): \n",
        "\t\tprint(\"In Class1\") \n",
        "\t\t\n",
        "class Class2(Class1): \n",
        "\tdef m(self): \n",
        "\t\tprint(\"In Class2\") \n",
        "\n",
        "class Class3(Class1): \n",
        "\tdef m(self): \n",
        "\t\tprint(\"In Class3\")\t \n",
        "\t\n",
        "class Class4(Class2, Class3): \n",
        "\tdef m(self): \n",
        "\t\tprint(\"In Class4\") \n",
        "\n",
        "obj = Class4() \n",
        "obj.m() \n",
        "\n",
        "Class2.m(obj) \n",
        "Class3.m(obj) \n",
        "Class1.m(obj) \n"
      ],
      "execution_count": null,
      "outputs": [
        {
          "output_type": "stream",
          "text": [
            "In Class4\n",
            "In Class2\n",
            "In Class3\n",
            "In Class1\n"
          ],
          "name": "stdout"
        }
      ]
    },
    {
      "cell_type": "code",
      "metadata": {
        "id": "Lsnlu99vnwT_",
        "colab": {
          "base_uri": "https://localhost:8080/",
          "height": 105
        },
        "outputId": "92f646ae-ab77-4de0-9b56-1bfbb2c5ef0d"
      },
      "source": [
        "class Class1: \n",
        "\tdef m(self): \n",
        "\t\tprint(\"In Class1\") \n",
        "\t\n",
        "class Class2(Class1): \n",
        "\tdef m(self): \n",
        "\t\tprint(\"In Class2\") \n",
        "\t\tClass1.m(self) \n",
        "\n",
        "class Class3(Class1): \n",
        "\tdef m(self): \n",
        "\t\tprint(\"In Class3\") \n",
        "\t\tClass1.m(self) \n",
        "\t\n",
        "class Class4(Class2, Class3): \n",
        "\tdef m(self): \n",
        "\t\tprint(\"In Class4\") \n",
        "\t\tClass2.m(self) \n",
        "\t\tClass3.m(self) \n",
        "\t\n",
        "obj = Class4() \n",
        "obj.m() \n"
      ],
      "execution_count": null,
      "outputs": [
        {
          "output_type": "stream",
          "text": [
            "In Class4\n",
            "In Class2\n",
            "In Class1\n",
            "In Class3\n",
            "In Class1\n"
          ],
          "name": "stdout"
        }
      ]
    },
    {
      "cell_type": "code",
      "metadata": {
        "id": "iGeH805soXNq",
        "colab": {
          "base_uri": "https://localhost:8080/",
          "height": 87
        },
        "outputId": "e683086e-a55d-49ca-d52d-dfcd3b1ef76f"
      },
      "source": [
        "class Class1: \n",
        "\tdef m(self): \n",
        "\t\tprint(\"In Class1\") \n",
        "\n",
        "class Class2(Class1): \n",
        "\tdef m(self): \n",
        "\t\tprint(\"In Class2\") \n",
        "\t\tsuper().m() \n",
        "\n",
        "class Class3(Class1): \n",
        "\tdef m(self): \n",
        "\t\tprint(\"In Class3\") \n",
        "\t\tsuper().m() \n",
        "\n",
        "class Class4(Class2, Class3): \n",
        "\tdef m(self): \n",
        "\t\tprint(\"In Class4\") \n",
        "\t\tsuper().m() \n",
        "\t\n",
        "obj = Class4() \n",
        "obj.m() \n"
      ],
      "execution_count": null,
      "outputs": [
        {
          "output_type": "stream",
          "text": [
            "In Class4\n",
            "In Class2\n",
            "In Class3\n",
            "In Class1\n"
          ],
          "name": "stdout"
        }
      ]
    },
    {
      "cell_type": "code",
      "metadata": {
        "id": "fM6fXeZ7ogNH"
      },
      "source": [
        ""
      ],
      "execution_count": null,
      "outputs": []
    }
  ]
}