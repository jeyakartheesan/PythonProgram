{
  "nbformat": 4,
  "nbformat_minor": 0,
  "metadata": {
    "kernelspec": {
      "name": "python36",
      "display_name": "Python 3.6",
      "language": "python"
    },
    "language_info": {
      "mimetype": "text/x-python",
      "nbconvert_exporter": "python",
      "name": "python",
      "pygments_lexer": "ipython3",
      "version": "3.6.6",
      "file_extension": ".py",
      "codemirror_mode": {
        "version": 3,
        "name": "ipython"
      }
    },
    "colab": {
      "name": "class2.ipynb",
      "provenance": [],
      "toc_visible": true,
      "include_colab_link": true
    },
    "accelerator": "GPU"
  },
  "cells": [
    {
      "cell_type": "markdown",
      "metadata": {
        "id": "view-in-github",
        "colab_type": "text"
      },
      "source": [
        "<a href=\"https://colab.research.google.com/github/jeyakartheesan/PythonProgram/blob/master/class2.ipynb\" target=\"_parent\"><img src=\"https://colab.research.google.com/assets/colab-badge.svg\" alt=\"Open In Colab\"/></a>"
      ]
    },
    {
      "cell_type": "markdown",
      "metadata": {
        "id": "Er2QqMmdF1SN",
        "colab_type": "text"
      },
      "source": [
        "# String"
      ]
    },
    {
      "cell_type": "code",
      "metadata": {
        "trusted": true,
        "id": "yP176W4GF1SQ",
        "colab_type": "code",
        "colab": {
          "base_uri": "https://localhost:8080/",
          "height": 34
        },
        "outputId": "ee48f877-6957-472e-ed85-cfcf73c9acc9"
      },
      "source": [
        "string='i am jeya kartheesan'\n",
        "\n",
        "print(string.count('a'))"
      ],
      "execution_count": null,
      "outputs": [
        {
          "output_type": "stream",
          "text": [
            "4\n"
          ],
          "name": "stdout"
        }
      ]
    },
    {
      "cell_type": "code",
      "metadata": {
        "trusted": true,
        "id": "2P1FOrlIF1Sp",
        "colab_type": "code",
        "colab": {
          "base_uri": "https://localhost:8080/",
          "height": 218
        },
        "outputId": "6aab060a-4fd2-4ef9-eeb2-a5332e1348fe"
      },
      "source": [
        "string=\" Hello wordl\"\n",
        "string1=\"5\"\n",
        "i=string\n",
        "print(\"\"\"\n",
        "isalpha :: {}\n",
        "\n",
        "isdecimal :: {}\n",
        "isidentifier :: {}\n",
        "islower :: {}\n",
        "isnumber :: {}\n",
        "isprintable :: {}\n",
        "isspace :: {}\n",
        "istitle :: {}\n",
        "isupper :: {}\n",
        "\"\"\".format(string.isalpha(),string.isdecimal(),i.isidentifier(),string.islower(),string1.isnumeric(),string.isprintable(),string.isspace(),string.istitle(),string.isupper()))"
      ],
      "execution_count": null,
      "outputs": [
        {
          "output_type": "stream",
          "text": [
            "\n",
            "isalpha :: False\n",
            "\n",
            "isdecimal :: False\n",
            "isidentifier :: False\n",
            "islower :: False\n",
            "isnumber :: True\n",
            "isprintable :: True\n",
            "isspace :: False\n",
            "istitle :: False\n",
            "isupper :: False\n",
            "\n"
          ],
          "name": "stdout"
        }
      ]
    },
    {
      "cell_type": "code",
      "metadata": {
        "trusted": true,
        "id": "CCdaHfNDF1S3",
        "colab_type": "code",
        "colab": {
          "base_uri": "https://localhost:8080/",
          "height": 168
        },
        "outputId": "eea2ead0-93ad-4b1a-bc27-5f7998afd434"
      },
      "source": [
        "string='helLo world'\n",
        "print('''\n",
        "Title :{}\n",
        "Captilize ::{}\n",
        "lower ::{}\n",
        "casefold ::{}\n",
        "endswith::{}\n",
        "stratswith::{}\n",
        "find::{}\n",
        "'''.format(string.title(),string.capitalize()\n",
        "           ,string.lower(),string.casefold(),string.endswith('d'),string.startswith('h'),string.find('world')))"
      ],
      "execution_count": null,
      "outputs": [
        {
          "output_type": "stream",
          "text": [
            "\n",
            "Title :Hello World\n",
            "Captilize ::Hello world\n",
            "lower ::hello world\n",
            "casefold ::hello world\n",
            "endswith::True\n",
            "stratswith::True\n",
            "find::6\n",
            "\n"
          ],
          "name": "stdout"
        }
      ]
    },
    {
      "cell_type": "code",
      "metadata": {
        "trusted": true,
        "id": "Y9Fdg9eoF1TD",
        "colab_type": "code",
        "colab": {
          "base_uri": "https://localhost:8080/",
          "height": 84
        },
        "outputId": "335f05ed-7a00-45d6-8483-defb42dce58e"
      },
      "source": [
        "srting=\"hi hello\"\n",
        "print(\"\"\"\n",
        "split :::{}\n",
        "replace ::: {}\n",
        "\"\"\".format(string.split(' '),string.replace('hi','welcome')))"
      ],
      "execution_count": null,
      "outputs": [
        {
          "output_type": "stream",
          "text": [
            "\n",
            "split :::['helLo', 'world']\n",
            "replace ::: helLo world\n",
            "\n"
          ],
          "name": "stdout"
        }
      ]
    },
    {
      "cell_type": "markdown",
      "metadata": {
        "id": "UyX_kMB_F1TL",
        "colab_type": "text"
      },
      "source": [
        "# List"
      ]
    },
    {
      "cell_type": "code",
      "metadata": {
        "trusted": true,
        "id": "cwIu7jmoF1TM",
        "colab_type": "code",
        "colab": {
          "base_uri": "https://localhost:8080/",
          "height": 218
        },
        "outputId": "88989cf2-706e-4a37-9d85-064ae67456a8"
      },
      "source": [
        "listInt=[1,2,3]\n",
        "listFloat=[1.2,1.3,1.4]\n",
        "listString=['String','hello','bye']\n",
        "listComplex=[1+3j,2+5j]\n",
        "listBoolean=[True,False]\n",
        "listChar=['a','b','c']\n",
        "listList=[[1,2,3],[1,2,3]]\n",
        "listTuple=[(1,2,3),(1,2,3)]\n",
        "listSet=[{1,2},{4,5}]\n",
        "listDict=[{'name':'jk','age':20},{'name':'kartheesn','age':20}]\n",
        "\n",
        "\n",
        "###print LIST Statements\n",
        "print(\"\"\"\n",
        "ListInt :: {}\n",
        "ListFloat :: {}\n",
        "ListString :: {}\n",
        "ListComplex :: {}\n",
        "ListBoolean :: {}\n",
        "ListChar :: {}\n",
        "ListList :: {}\n",
        "ListTuple :: {}\n",
        "ListSet ::{}\n",
        "ListDict :: {}\n",
        "\"\"\".format(listInt,listFloat,listString,listComplex,listBoolean,listChar,listList,listTuple,listSet,listDict))"
      ],
      "execution_count": null,
      "outputs": [
        {
          "output_type": "stream",
          "text": [
            "\n",
            "ListInt :: [1, 2, 3]\n",
            "ListFloat :: [1.2, 1.3, 1.4]\n",
            "ListString :: ['String', 'hello', 'bye']\n",
            "ListComplex :: [(1+3j), (2+5j)]\n",
            "ListBoolean :: [True, False]\n",
            "ListChar :: ['a', 'b', 'c']\n",
            "ListList :: [[1, 2, 3], [1, 2, 3]]\n",
            "ListTuple :: [(1, 2, 3), (1, 2, 3)]\n",
            "ListSet ::[{1, 2}, {4, 5}]\n",
            "ListDict :: [{'name': 'jk', 'age': 20}, {'name': 'kartheesn', 'age': 20}]\n",
            "\n"
          ],
          "name": "stdout"
        }
      ]
    },
    {
      "cell_type": "markdown",
      "metadata": {
        "id": "PzV6koQdF1TS",
        "colab_type": "text"
      },
      "source": [
        "# operation"
      ]
    },
    {
      "cell_type": "code",
      "metadata": {
        "trusted": true,
        "id": "WY-Q8G1GF1TT",
        "colab_type": "code",
        "colab": {
          "base_uri": "https://localhost:8080/",
          "height": 218
        },
        "outputId": "801ff46e-eae0-4c69-cd2f-8222e3771ea2"
      },
      "source": [
        "\n",
        "list1=[]\n",
        "list1.append(5)\n",
        "print(list1)\n",
        "list1.append(10)\n",
        "print(list1)\n",
        "list1.insert(0,10)\n",
        "print(list1)\n",
        "a=list1.index(5)\n",
        "print(a)\n",
        "list1.remove(10)\n",
        "print(list1)\n",
        "list1.extend((5,4,2,7,9,18))\n",
        "print(list1)\n",
        "list1.sort()\n",
        "list2=list1.copy()\n",
        "print(list1)\n",
        "list1.reverse()\n",
        "print(list1)\n",
        "print(list2)\n",
        "list1.pop()\n",
        "print(list1)\n",
        "list1.clear()\n",
        "print(list1)\n",
        "print(list2.count(5))"
      ],
      "execution_count": null,
      "outputs": [
        {
          "output_type": "stream",
          "text": [
            "[5]\n",
            "[5, 10]\n",
            "[10, 5, 10]\n",
            "1\n",
            "[5, 10]\n",
            "[5, 10, 5, 4, 2, 7, 9, 18]\n",
            "[2, 4, 5, 5, 7, 9, 10, 18]\n",
            "[18, 10, 9, 7, 5, 5, 4, 2]\n",
            "[2, 4, 5, 5, 7, 9, 10, 18]\n",
            "[18, 10, 9, 7, 5, 5, 4]\n",
            "[]\n",
            "2\n"
          ],
          "name": "stdout"
        }
      ]
    },
    {
      "cell_type": "markdown",
      "metadata": {
        "id": "LshNXKEWF1Tc",
        "colab_type": "text"
      },
      "source": [
        "# Tuple\n"
      ]
    },
    {
      "cell_type": "code",
      "metadata": {
        "trusted": true,
        "id": "SQt_SM6YF1Tf",
        "colab_type": "code",
        "colab": {
          "base_uri": "https://localhost:8080/",
          "height": 50
        },
        "outputId": "2b87f2ce-d19a-4bf6-f434-836a6aa88faf"
      },
      "source": [
        "tuple1=(1,2,3,3,4,5,6,5,5)\n",
        "print(tuple1.count(5))\n",
        "print(tuple1.index(4))"
      ],
      "execution_count": null,
      "outputs": [
        {
          "output_type": "stream",
          "text": [
            "3\n",
            "4\n"
          ],
          "name": "stdout"
        }
      ]
    },
    {
      "cell_type": "markdown",
      "metadata": {
        "id": "RLaleC39F1Tr",
        "colab_type": "text"
      },
      "source": [
        "# Set"
      ]
    },
    {
      "cell_type": "code",
      "metadata": {
        "trusted": true,
        "id": "kL34wMEuF1Tt",
        "colab_type": "code",
        "colab": {
          "base_uri": "https://localhost:8080/",
          "height": 34
        },
        "outputId": "ae43e0d2-f852-42ce-ecde-e7e37c2fb664"
      },
      "source": [
        "set1={1,2,3,5,4,1}\n",
        "print(set1)"
      ],
      "execution_count": null,
      "outputs": [
        {
          "output_type": "stream",
          "text": [
            "{1, 2, 3, 4, 5}\n"
          ],
          "name": "stdout"
        }
      ]
    },
    {
      "cell_type": "code",
      "metadata": {
        "trusted": true,
        "id": "tONGWDz4F1T4",
        "colab_type": "code",
        "colab": {
          "base_uri": "https://localhost:8080/",
          "height": 202
        },
        "outputId": "8eda0020-f5f8-4d40-80bd-1ed7125b95d6"
      },
      "source": [
        "###operations of SET\n",
        "\n",
        "set1={1,2,3,1,2,3}\n",
        "print(set1)\n",
        "set1.add(4)\n",
        "print(set1)\n",
        "set2=set1.copy()\n",
        "print(set2)\n",
        "set2.add(8)\n",
        "set2.add(7)\n",
        "print(set2)\n",
        "set3=set2.difference(set1)\n",
        "print(set3)\n",
        "set2.difference_update(set1)\n",
        "print(set2)\n",
        "set3.discard(8)\n",
        "print(set3)\n",
        "set\n",
        "print(f\"set1 :: {set1} set2 :: {set2}\")\n",
        "set2.add(1)\n",
        "set2.add(4)\n",
        "set3=set2.intersection(set1)  ##COMMOM VALUE\n",
        "print(set3)\n",
        "set2.intersection_update(set1)\n",
        "print(set2)\n",
        "\n",
        "##both set are diffents to returns True otherwise return False\n",
        "set4={1,3,5}\n",
        "set5={2,4,6}\n",
        "print(set4.isdisjoint(set5))\n"
      ],
      "execution_count": null,
      "outputs": [
        {
          "output_type": "stream",
          "text": [
            "{1, 2, 3}\n",
            "{1, 2, 3, 4}\n",
            "{1, 2, 3, 4}\n",
            "{1, 2, 3, 4, 7, 8}\n",
            "{8, 7}\n",
            "{7, 8}\n",
            "{7}\n",
            "set1 :: {1, 2, 3, 4} set2 :: {7, 8}\n",
            "{1, 4}\n",
            "{1, 4}\n",
            "True\n"
          ],
          "name": "stdout"
        }
      ]
    },
    {
      "cell_type": "code",
      "metadata": {
        "trusted": true,
        "id": "GLwEQcDDF1UD",
        "colab_type": "code",
        "colab": {
          "base_uri": "https://localhost:8080/",
          "height": 34
        },
        "outputId": "d388df08-7326-4c92-9560-b8c40bd530c9"
      },
      "source": [
        "### subset \n",
        "\n",
        "set1={1,2,3,4,5,6,7,8}\n",
        "set2={4,5,6}\n",
        "print(set2.issubset(set1))"
      ],
      "execution_count": null,
      "outputs": [
        {
          "output_type": "stream",
          "text": [
            "True\n"
          ],
          "name": "stdout"
        }
      ]
    },
    {
      "cell_type": "code",
      "metadata": {
        "id": "TG7ZlLzMIA6B",
        "colab_type": "code",
        "colab": {
          "base_uri": "https://localhost:8080/",
          "height": 34
        },
        "outputId": "755e7824-8741-4f71-9c8c-32ef4b66da22"
      },
      "source": [
        "### uppersubset\n",
        "set1={1,2,3,4,5,6,7,8}\n",
        "set2={4,5,6}\n",
        "print(set1.issuperset(set2))\n"
      ],
      "execution_count": null,
      "outputs": [
        {
          "output_type": "stream",
          "text": [
            "True\n"
          ],
          "name": "stdout"
        }
      ]
    },
    {
      "cell_type": "code",
      "metadata": {
        "id": "5dR1dOm6IQoq",
        "colab_type": "code",
        "colab": {
          "base_uri": "https://localhost:8080/",
          "height": 67
        },
        "outputId": "ab22e733-75fd-4abc-9ae3-d90f5f24e2cd"
      },
      "source": [
        "## pop and Remove\n",
        "\n",
        "set1={1,2,3,4,5,5,6}\n",
        "print(set1)\n",
        "set1.pop()\n",
        "print(set1)\n",
        "set1.remove(4)\n",
        "print(set1)"
      ],
      "execution_count": null,
      "outputs": [
        {
          "output_type": "stream",
          "text": [
            "{1, 2, 3, 4, 5, 6}\n",
            "{2, 3, 4, 5, 6}\n",
            "{2, 3, 5, 6}\n"
          ],
          "name": "stdout"
        }
      ]
    },
    {
      "cell_type": "code",
      "metadata": {
        "id": "iUvId-cgIdyu",
        "colab_type": "code",
        "colab": {
          "base_uri": "https://localhost:8080/",
          "height": 34
        },
        "outputId": "0c046498-cc90-435a-8379-e5355569503a"
      },
      "source": [
        "###Symmetric Difference\n",
        "x = {\"apple\", \"banana\", \"cherry\"}\n",
        "y = {\"google\", \"microsoft\", \"apple\"}\n",
        "\n",
        "z = x.symmetric_difference(y) \n",
        "\n",
        "print(z)"
      ],
      "execution_count": null,
      "outputs": [
        {
          "output_type": "stream",
          "text": [
            "{'cherry', 'microsoft', 'banana', 'google'}\n"
          ],
          "name": "stdout"
        }
      ]
    },
    {
      "cell_type": "code",
      "metadata": {
        "id": "fIoCXVWSIqBG",
        "colab_type": "code",
        "colab": {
          "base_uri": "https://localhost:8080/",
          "height": 34
        },
        "outputId": "a476fcb5-0d42-42cd-f23b-6d6adb2cfed8"
      },
      "source": [
        "###update Symmetric Difference\n",
        "x = {\"apple\", \"banana\", \"cherry\"}\n",
        "y = {\"google\", \"microsoft\", \"apple\"}\n",
        "\n",
        "x.symmetric_difference_update(y)\n",
        "\n",
        "print(x)"
      ],
      "execution_count": null,
      "outputs": [
        {
          "output_type": "stream",
          "text": [
            "{'google', 'cherry', 'banana', 'microsoft'}\n"
          ],
          "name": "stdout"
        }
      ]
    },
    {
      "cell_type": "code",
      "metadata": {
        "id": "AeVBNUqSI32_",
        "colab_type": "code",
        "colab": {
          "base_uri": "https://localhost:8080/",
          "height": 34
        },
        "outputId": "69ff6d86-39cf-4444-9342-797d4b4fe3cc"
      },
      "source": [
        "###UNION\n",
        "x = {\"apple\", \"banana\", \"cherry\"}\n",
        "y = {\"google\", \"microsoft\", \"apple\"}\n",
        "\n",
        "z = x.union(y)\n",
        "\n",
        "print(z)"
      ],
      "execution_count": null,
      "outputs": [
        {
          "output_type": "stream",
          "text": [
            "{'cherry', 'microsoft', 'google', 'apple', 'banana'}\n"
          ],
          "name": "stdout"
        }
      ]
    },
    {
      "cell_type": "code",
      "metadata": {
        "id": "9t3_v-4PJATt",
        "colab_type": "code",
        "colab": {
          "base_uri": "https://localhost:8080/",
          "height": 34
        },
        "outputId": "8b603824-8da6-4cf1-e2e3-e1b6c6f45692"
      },
      "source": [
        "###UPDATE\n",
        "\n",
        "x = {\"apple\", \"banana\", \"cherry\"}\n",
        "y = {\"google\", \"microsoft\", \"apple\"}\n",
        "\n",
        "x.update(y)\n",
        "\n",
        "print(x)"
      ],
      "execution_count": null,
      "outputs": [
        {
          "output_type": "stream",
          "text": [
            "{'cherry', 'microsoft', 'google', 'apple', 'banana'}\n"
          ],
          "name": "stdout"
        }
      ]
    },
    {
      "cell_type": "markdown",
      "metadata": {
        "id": "IGkQPpgHJbsK",
        "colab_type": "text"
      },
      "source": [
        "# **DICTIONARY**"
      ]
    },
    {
      "cell_type": "code",
      "metadata": {
        "id": "6SQmE7_TJjNH",
        "colab_type": "code",
        "colab": {
          "base_uri": "https://localhost:8080/",
          "height": 34
        },
        "outputId": "cc6058e3-c923-4e19-e70b-807147d5f5e4"
      },
      "source": [
        "dict1={'name':'jk','age':20,'degination':'student'}\n",
        "print(dict1)"
      ],
      "execution_count": null,
      "outputs": [
        {
          "output_type": "stream",
          "text": [
            "{'name': 'jk', 'age': 20, 'degination': 'student'}\n"
          ],
          "name": "stdout"
        }
      ]
    },
    {
      "cell_type": "code",
      "metadata": {
        "id": "TODNddbxJuHV",
        "colab_type": "code",
        "colab": {
          "base_uri": "https://localhost:8080/",
          "height": 34
        },
        "outputId": "2b428026-3695-46f7-8d6d-d3639cfbe9e4"
      },
      "source": [
        "###Keys\n",
        "print(dict1.keys())"
      ],
      "execution_count": null,
      "outputs": [
        {
          "output_type": "stream",
          "text": [
            "dict_keys(['name', 'age', 'degination'])\n"
          ],
          "name": "stdout"
        }
      ]
    },
    {
      "cell_type": "code",
      "metadata": {
        "id": "AIEKdd2SJw7l",
        "colab_type": "code",
        "colab": {
          "base_uri": "https://localhost:8080/",
          "height": 50
        },
        "outputId": "8d3c7e57-f889-4cd7-cbf2-c05a6849ac38"
      },
      "source": [
        "###FromKeys\n",
        "\n",
        "x = ('key1', 'key2', 'key3')\n",
        "y = 0\n",
        "\n",
        "thisdict = dict.fromkeys(x, y)\n",
        "\n",
        "print(thisdict)\n",
        "###NONE value\n",
        "x = ('key1', 'key2', 'key3')\n",
        "\n",
        "thisdict = dict.fromkeys(x)\n",
        "\n",
        "print(thisdict)\n"
      ],
      "execution_count": null,
      "outputs": [
        {
          "output_type": "stream",
          "text": [
            "{'key1': 0, 'key2': 0, 'key3': 0}\n",
            "{'key1': None, 'key2': None, 'key3': None}\n"
          ],
          "name": "stdout"
        }
      ]
    },
    {
      "cell_type": "code",
      "metadata": {
        "id": "6Zr8e7xxJ43g",
        "colab_type": "code",
        "colab": {
          "base_uri": "https://localhost:8080/",
          "height": 34
        },
        "outputId": "53b85d2f-807e-4091-cd4e-91514f29a49e"
      },
      "source": [
        "###items\n",
        "print(dict1.items())"
      ],
      "execution_count": null,
      "outputs": [
        {
          "output_type": "stream",
          "text": [
            "dict_items([('name', 'jk'), ('age', 20), ('degination', 'student')])\n"
          ],
          "name": "stdout"
        }
      ]
    },
    {
      "cell_type": "code",
      "metadata": {
        "id": "AtStOT4oKGHN",
        "colab_type": "code",
        "colab": {
          "base_uri": "https://localhost:8080/",
          "height": 34
        },
        "outputId": "16492421-4028-497a-bc77-ac3b7eb56898"
      },
      "source": [
        "##values\n",
        "\n",
        "print(dict1.values())"
      ],
      "execution_count": null,
      "outputs": [
        {
          "output_type": "stream",
          "text": [
            "dict_values(['jk', 20, 'student'])\n"
          ],
          "name": "stdout"
        }
      ]
    },
    {
      "cell_type": "code",
      "metadata": {
        "id": "1HKJ_EPKKMS-",
        "colab_type": "code",
        "colab": {
          "base_uri": "https://localhost:8080/",
          "height": 34
        },
        "outputId": "01d43d12-ffc1-4852-a107-222e1f71b22c"
      },
      "source": [
        "##get\n",
        "print(dict1.get('age'))"
      ],
      "execution_count": null,
      "outputs": [
        {
          "output_type": "stream",
          "text": [
            "20\n"
          ],
          "name": "stdout"
        }
      ]
    },
    {
      "cell_type": "code",
      "metadata": {
        "id": "auDPKCuVKZUH",
        "colab_type": "code",
        "colab": {
          "base_uri": "https://localhost:8080/",
          "height": 34
        },
        "outputId": "aa7ddc93-0da4-4cff-d0a0-253ad3f88cdd"
      },
      "source": [
        "##copy\n",
        "\n",
        "dict2=dict1.copy()\n",
        "print(dict2)"
      ],
      "execution_count": null,
      "outputs": [
        {
          "output_type": "stream",
          "text": [
            "{'name': 'jk', 'age': 20, 'degination': 'student'}\n"
          ],
          "name": "stdout"
        }
      ]
    },
    {
      "cell_type": "code",
      "metadata": {
        "id": "XSZ9F31fKhd_",
        "colab_type": "code",
        "colab": {
          "base_uri": "https://localhost:8080/",
          "height": 50
        },
        "outputId": "62e0fd24-142f-45ba-eba9-7e2a4f1c58de"
      },
      "source": [
        "### setdefault\n",
        "\n",
        "car = {\n",
        "  \"brand\": \"Ford\",\n",
        "  \"model\": \"Mustang\",\n",
        "  \"year\": 1964\n",
        "}\n",
        "\n",
        "x = car.setdefault(\"model\", \"Bronco\")\n",
        "\n",
        "print(x)\n",
        "print(car)"
      ],
      "execution_count": null,
      "outputs": [
        {
          "output_type": "stream",
          "text": [
            "Mustang\n",
            "{'brand': 'Ford', 'model': 'Mustang', 'year': 1964}\n"
          ],
          "name": "stdout"
        }
      ]
    },
    {
      "cell_type": "code",
      "metadata": {
        "id": "v9DrBqDuK5vh",
        "colab_type": "code",
        "colab": {
          "base_uri": "https://localhost:8080/",
          "height": 34
        },
        "outputId": "c5a5cdcb-6d95-4389-9f3b-3b0f1a880074"
      },
      "source": [
        "###update\n",
        "\n",
        "car = {\n",
        "  \"brand\": \"Ford\",\n",
        "  \"model\": \"Mustang\",\n",
        "  \"year\": 1964\n",
        "}\n",
        "\n",
        "car.update({\"color\": \"White\"})\n",
        "\n",
        "print(car)\n"
      ],
      "execution_count": null,
      "outputs": [
        {
          "output_type": "stream",
          "text": [
            "{'brand': 'Ford', 'model': 'Mustang', 'year': 1964, 'color': 'White'}\n"
          ],
          "name": "stdout"
        }
      ]
    },
    {
      "cell_type": "code",
      "metadata": {
        "id": "LBi798eAK7ay",
        "colab_type": "code",
        "colab": {
          "base_uri": "https://localhost:8080/",
          "height": 84
        },
        "outputId": "403651ed-13e3-4276-9a97-bddde1dd9235"
      },
      "source": [
        "###pop and pop item\n",
        "\n",
        "p=car.pop('year')\n",
        "print(p)\n",
        "print(car)\n",
        "\n",
        "###pop item\n",
        "p=car.popitem()\n",
        "print(p)\n",
        "print(car)\n",
        " "
      ],
      "execution_count": null,
      "outputs": [
        {
          "output_type": "stream",
          "text": [
            "1964\n",
            "{'brand': 'Ford', 'model': 'Mustang', 'color': 'White'}\n",
            "('color', 'White')\n",
            "{'brand': 'Ford', 'model': 'Mustang'}\n"
          ],
          "name": "stdout"
        }
      ]
    },
    {
      "cell_type": "code",
      "metadata": {
        "id": "pEbrjzdbLGhk",
        "colab_type": "code",
        "colab": {
          "base_uri": "https://localhost:8080/",
          "height": 34
        },
        "outputId": "097316b8-8604-417b-d48f-1b78e364a1f6"
      },
      "source": [
        "###clear\n",
        "\n",
        "car.clear()\n",
        "print(car)"
      ],
      "execution_count": null,
      "outputs": [
        {
          "output_type": "stream",
          "text": [
            "{}\n"
          ],
          "name": "stdout"
        }
      ]
    },
    {
      "cell_type": "code",
      "metadata": {
        "id": "t0p9fbe4Li3S",
        "colab_type": "code",
        "colab": {
          "base_uri": "https://localhost:8080/",
          "height": 185
        },
        "outputId": "af5ff727-a137-4661-b852-620b2564465f"
      },
      "source": [
        "print(dict1)\n",
        "for i in dict1:\n",
        "  print(\"\"\"\n",
        "  keys :: {}  values  :: {}\n",
        "  \"\"\".format(i,dict1[i]))\n"
      ],
      "execution_count": null,
      "outputs": [
        {
          "output_type": "stream",
          "text": [
            "{'name': 'jk', 'age': 20, 'degination': 'student'}\n",
            "\n",
            "  keys :: name  values  :: jk\n",
            "  \n",
            "\n",
            "  keys :: age  values  :: 20\n",
            "  \n",
            "\n",
            "  keys :: degination  values  :: student\n",
            "  \n"
          ],
          "name": "stdout"
        }
      ]
    },
    {
      "cell_type": "code",
      "metadata": {
        "id": "UeqFCezaMxys",
        "colab_type": "code",
        "colab": {
          "base_uri": "https://localhost:8080/",
          "height": 67
        },
        "outputId": "2b8a8864-a2ac-494e-95d4-7585124440e3"
      },
      "source": [
        "for i in dict1.keys():\n",
        "  print(i)"
      ],
      "execution_count": null,
      "outputs": [
        {
          "output_type": "stream",
          "text": [
            "name\n",
            "age\n",
            "degination\n"
          ],
          "name": "stdout"
        }
      ]
    },
    {
      "cell_type": "code",
      "metadata": {
        "id": "ctNbj5adNVSX",
        "colab_type": "code",
        "colab": {
          "base_uri": "https://localhost:8080/",
          "height": 67
        },
        "outputId": "cde294c9-fde4-47b4-fe5f-b27eada73fd7"
      },
      "source": [
        "for i in dict1.values():\n",
        "  print(i)"
      ],
      "execution_count": null,
      "outputs": [
        {
          "output_type": "stream",
          "text": [
            "jk\n",
            "20\n",
            "student\n"
          ],
          "name": "stdout"
        }
      ]
    },
    {
      "cell_type": "code",
      "metadata": {
        "id": "doRaH9VZNZ8k",
        "colab_type": "code",
        "colab": {}
      },
      "source": [
        ""
      ],
      "execution_count": null,
      "outputs": []
    }
  ]
}