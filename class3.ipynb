{
  "nbformat": 4,
  "nbformat_minor": 0,
  "metadata": {
    "colab": {
      "name": "class3.ipynb",
      "provenance": [],
      "authorship_tag": "ABX9TyM8uEN1OrdrcbsvTmY/8LhX",
      "include_colab_link": true
    },
    "kernelspec": {
      "name": "python3",
      "display_name": "Python 3"
    }
  },
  "cells": [
    {
      "cell_type": "markdown",
      "metadata": {
        "id": "view-in-github",
        "colab_type": "text"
      },
      "source": [
        "<a href=\"https://colab.research.google.com/github/jeyakartheesan/PythonProgram/blob/master/class3.ipynb\" target=\"_parent\"><img src=\"https://colab.research.google.com/assets/colab-badge.svg\" alt=\"Open In Colab\"/></a>"
      ]
    },
    {
      "cell_type": "markdown",
      "metadata": {
        "id": "cVsaXwuaOWIo",
        "colab_type": "text"
      },
      "source": [
        "### **FUNCTION**"
      ]
    },
    {
      "cell_type": "markdown",
      "metadata": {
        "id": "D2k_zNeQOyKl",
        "colab_type": "text"
      },
      "source": [
        "FUNCTION and Function call"
      ]
    },
    {
      "cell_type": "code",
      "metadata": {
        "id": "dgsJsc9uOcJq",
        "colab_type": "code",
        "colab": {
          "base_uri": "https://localhost:8080/",
          "height": 34
        },
        "outputId": "24f91fc5-ebeb-45f2-de3e-7fafbc3b1712"
      },
      "source": [
        "\"\"\"\n",
        "def functon_name(agrumentsn):\n",
        "  print('statement)\n",
        "\"\"\"\n",
        "\n",
        "\n",
        "def hello():\n",
        "  print('HelloWorld')\n",
        "hello()"
      ],
      "execution_count": null,
      "outputs": [
        {
          "output_type": "stream",
          "text": [
            "HelloWorld\n"
          ],
          "name": "stdout"
        }
      ]
    },
    {
      "cell_type": "markdown",
      "metadata": {
        "id": "440dAIZdOxKF",
        "colab_type": "text"
      },
      "source": [
        "Arguments"
      ]
    },
    {
      "cell_type": "code",
      "metadata": {
        "id": "3U-J9R5aOoAq",
        "colab_type": "code",
        "colab": {
          "base_uri": "https://localhost:8080/",
          "height": 67
        },
        "outputId": "3739a596-fc58-4f4d-9199-b6f020b356d9"
      },
      "source": [
        "def my_function(fname):\n",
        "  print(fname + \" Refsnes\")\n",
        "\n",
        "my_function(\"Emil\")\n",
        "my_function(\"Tobias\")\n",
        "my_function(\"Linus\")"
      ],
      "execution_count": null,
      "outputs": [
        {
          "output_type": "stream",
          "text": [
            "Emil Refsnes\n",
            "Tobias Refsnes\n",
            "Linus Refsnes\n"
          ],
          "name": "stdout"
        }
      ]
    },
    {
      "cell_type": "markdown",
      "metadata": {
        "id": "OyQMMUsUPEv0",
        "colab_type": "text"
      },
      "source": [
        "Arbitrary Arguments, *args"
      ]
    },
    {
      "cell_type": "code",
      "metadata": {
        "id": "ezFrwdMfPDot",
        "colab_type": "code",
        "colab": {
          "base_uri": "https://localhost:8080/",
          "height": 70
        },
        "outputId": "01d17c76-e682-4306-a64f-5d0aec243def"
      },
      "source": [
        "def my_function(*kids):\n",
        "  print(f'kids name list{kids}')\n",
        "  print(\"The youngest child is{} \" .format(kids))\n",
        "  print('The child is',kids[1])\n",
        "\n",
        "my_function(\"Emil\", \"Tobias\", \"Linus\")"
      ],
      "execution_count": null,
      "outputs": [
        {
          "output_type": "stream",
          "text": [
            "kids name list('Emil', 'Tobias', 'Linus')\n",
            "The youngest child is('Emil', 'Tobias', 'Linus') \n",
            "The child is Tobias\n"
          ],
          "name": "stdout"
        }
      ]
    },
    {
      "cell_type": "markdown",
      "metadata": {
        "id": "RgAU2PehPOwi",
        "colab_type": "text"
      },
      "source": [
        "Keyword Arguments"
      ]
    },
    {
      "cell_type": "code",
      "metadata": {
        "id": "m0G-TC7DPKV1",
        "colab_type": "code",
        "colab": {
          "base_uri": "https://localhost:8080/",
          "height": 34
        },
        "outputId": "e2b1940f-53dd-487d-f87f-f38fb09fd6ae"
      },
      "source": [
        "def my_function(child3, child2, child1):\n",
        "  print(\"The youngest child is \" + child3)\n",
        "\n",
        "my_function(child1 = \"Emil\", child2 = \"Tobias\", child3 = \"Linus\")\n"
      ],
      "execution_count": null,
      "outputs": [
        {
          "output_type": "stream",
          "text": [
            "The youngest child is Linus\n"
          ],
          "name": "stdout"
        }
      ]
    },
    {
      "cell_type": "markdown",
      "metadata": {
        "id": "ka8_w9omPcjp",
        "colab_type": "text"
      },
      "source": [
        "Arbitrary Keyword Arguments, **kwargs"
      ]
    },
    {
      "cell_type": "code",
      "metadata": {
        "id": "yPCVm9j1PXAd",
        "colab_type": "code",
        "colab": {
          "base_uri": "https://localhost:8080/",
          "height": 52
        },
        "outputId": "af2e7692-4993-4348-d4c9-2f0120627286"
      },
      "source": [
        "def my_function(**kid):\n",
        "  print(kid)\n",
        "  print(\"His last name is \" ,kid[\"fname\"])\n",
        "\n",
        "my_function(fname = \"Tobias\", lname = \"Refsnes\")"
      ],
      "execution_count": null,
      "outputs": [
        {
          "output_type": "stream",
          "text": [
            "{'fname': 'Tobias', 'lname': 'Refsnes'}\n",
            "His last name is  Tobias\n"
          ],
          "name": "stdout"
        }
      ]
    },
    {
      "cell_type": "markdown",
      "metadata": {
        "id": "KdOf70MhPh75",
        "colab_type": "text"
      },
      "source": [
        "Default Parameter Value"
      ]
    },
    {
      "cell_type": "code",
      "metadata": {
        "id": "pdHWSXO5Pfvq",
        "colab_type": "code",
        "colab": {
          "base_uri": "https://localhost:8080/",
          "height": 84
        },
        "outputId": "0be1818c-9dc6-471d-d56c-0ac44c3bb60b"
      },
      "source": [
        "def my_function(country = \"Norway\"):\n",
        "  print(\"I am from \" + country)\n",
        "\n",
        "my_function(\"Sweden\")\n",
        "my_function(\"India\")\n",
        "my_function()\n",
        "my_function(\"Brazil\")"
      ],
      "execution_count": null,
      "outputs": [
        {
          "output_type": "stream",
          "text": [
            "I am from Sweden\n",
            "I am from India\n",
            "I am from Norway\n",
            "I am from Brazil\n"
          ],
          "name": "stdout"
        }
      ]
    },
    {
      "cell_type": "markdown",
      "metadata": {
        "id": "OpW_LMuGPn8B",
        "colab_type": "text"
      },
      "source": [
        "Passing a List as an Argument"
      ]
    },
    {
      "cell_type": "code",
      "metadata": {
        "id": "3SCjT0UpPkNc",
        "colab_type": "code",
        "colab": {
          "base_uri": "https://localhost:8080/",
          "height": 67
        },
        "outputId": "90932fe0-e5c2-4caa-8fc7-d96e3946c875"
      },
      "source": [
        "def my_function(food):\n",
        "  for x in food:\n",
        "    print(x)\n",
        "\n",
        "fruits = [\"apple\", \"banana\", \"cherry\"]\n",
        "\n",
        "my_function(fruits)"
      ],
      "execution_count": null,
      "outputs": [
        {
          "output_type": "stream",
          "text": [
            "apple\n",
            "banana\n",
            "cherry\n"
          ],
          "name": "stdout"
        }
      ]
    },
    {
      "cell_type": "markdown",
      "metadata": {
        "id": "k5vzM-AWPq5r",
        "colab_type": "text"
      },
      "source": [
        "Return Values"
      ]
    },
    {
      "cell_type": "code",
      "metadata": {
        "id": "pZqGee1DPqJY",
        "colab_type": "code",
        "colab": {
          "base_uri": "https://localhost:8080/",
          "height": 67
        },
        "outputId": "fbbd1b3f-5508-45dc-aa99-28479a5524b8"
      },
      "source": [
        "def my_function(x):\n",
        "  return 5 * x\n",
        "\n",
        "print(my_function(3))\n",
        "print(my_function(5))\n",
        "print(my_function(9))"
      ],
      "execution_count": null,
      "outputs": [
        {
          "output_type": "stream",
          "text": [
            "15\n",
            "25\n",
            "45\n"
          ],
          "name": "stdout"
        }
      ]
    },
    {
      "cell_type": "markdown",
      "metadata": {
        "id": "tSpcs8wKPwBF",
        "colab_type": "text"
      },
      "source": [
        "Multivalues Return"
      ]
    },
    {
      "cell_type": "code",
      "metadata": {
        "id": "uLz7tLFTPvG5",
        "colab_type": "code",
        "colab": {
          "base_uri": "https://localhost:8080/",
          "height": 50
        },
        "outputId": "a7e5c50c-e94f-4315-971c-1f405757ad3b"
      },
      "source": [
        "def ret():\n",
        "  a=10\n",
        "  b=20\n",
        "  return a,b\n",
        "print(\"hello\")\n",
        "\n",
        "c,d=ret()\n",
        "print(c,d)"
      ],
      "execution_count": null,
      "outputs": [
        {
          "output_type": "stream",
          "text": [
            "hello\n",
            "10 20\n"
          ],
          "name": "stdout"
        }
      ]
    },
    {
      "cell_type": "code",
      "metadata": {
        "id": "CwxBRFSfQIg_",
        "colab_type": "code",
        "colab": {
          "base_uri": "https://localhost:8080/",
          "height": 70
        },
        "outputId": "105ede89-9a8e-4a73-c4bb-c7723696172f"
      },
      "source": [
        "def fun(): \n",
        "\tstr = \"jk\"\n",
        "\tx ,y=30,20\n",
        "\treturn str, x,y; # Return tuple, we could also \n",
        "\t\t\t\t\t# write (str, x,y) \n",
        "\n",
        "\n",
        "str1, x1 ,y1= fun() # Assign returned tuple \n",
        "print(str1) \n",
        "print(x1)\n",
        "print(y1)"
      ],
      "execution_count": null,
      "outputs": [
        {
          "output_type": "stream",
          "text": [
            "jk\n",
            "30\n",
            "20\n"
          ],
          "name": "stdout"
        }
      ]
    },
    {
      "cell_type": "markdown",
      "metadata": {
        "id": "K1ThbzdGRY7s",
        "colab_type": "text"
      },
      "source": [
        "Pass"
      ]
    },
    {
      "cell_type": "code",
      "metadata": {
        "id": "SApWTJ-mQ2Dd",
        "colab_type": "code",
        "colab": {
          "base_uri": "https://localhost:8080/",
          "height": 34
        },
        "outputId": "24928b22-7a53-4fce-d0dd-f5793eb9a93c"
      },
      "source": [
        "def fun():\n",
        "  pass\n",
        "print(fun())"
      ],
      "execution_count": null,
      "outputs": [
        {
          "output_type": "stream",
          "text": [
            "None\n"
          ],
          "name": "stdout"
        }
      ]
    },
    {
      "cell_type": "markdown",
      "metadata": {
        "id": "fgb3A1PPADHw",
        "colab_type": "text"
      },
      "source": [
        "Compostion Functions"
      ]
    },
    {
      "cell_type": "code",
      "metadata": {
        "id": "rzNxSNGiReOp",
        "colab_type": "code",
        "colab": {
          "base_uri": "https://localhost:8080/",
          "height": 34
        },
        "outputId": "c01de43f-da01-489e-c595-9b2a8264c2c0"
      },
      "source": [
        "\n",
        "def composel(f,g):\n",
        "  return lambda x:f(g(x))\n",
        "def double(x):\n",
        "  return x*2\n",
        "def inc(x):\n",
        "  return x+1\n",
        "IncAndDouble=composel(double,inc)\n",
        "x=IncAndDouble(10)\n",
        "print(x)"
      ],
      "execution_count": null,
      "outputs": [
        {
          "output_type": "stream",
          "text": [
            "22\n"
          ],
          "name": "stdout"
        }
      ]
    },
    {
      "cell_type": "code",
      "metadata": {
        "id": "IA_4UxJ0Dc_9",
        "colab_type": "code",
        "colab": {
          "base_uri": "https://localhost:8080/",
          "height": 52
        },
        "outputId": "a5395df8-66f3-48e6-8a44-62a90645e6a6"
      },
      "source": [
        "def dec(x):\n",
        "  return x-1\n",
        "IncDobleandDec=composel(composel(double,inc),dec)\n",
        "In=composel(dec,inc)\n",
        "print(In(10))\n",
        "IncDobleandDec(10)"
      ],
      "execution_count": null,
      "outputs": [
        {
          "output_type": "stream",
          "text": [
            "10\n"
          ],
          "name": "stdout"
        },
        {
          "output_type": "execute_result",
          "data": {
            "text/plain": [
              "20"
            ]
          },
          "metadata": {
            "tags": []
          },
          "execution_count": 26
        }
      ]
    },
    {
      "cell_type": "code",
      "metadata": {
        "id": "BG25MYToDw-o",
        "colab_type": "code",
        "colab": {
          "base_uri": "https://localhost:8080/",
          "height": 34
        },
        "outputId": "b088a8c8-5521-4ea7-fef7-529567597b19"
      },
      "source": [
        "import functools\n",
        "def compose(*functions):\n",
        "  return functools.reduce(lambda f,g:lambda x:f(g(x)),functions,lambda x:x)\n",
        "IncDobleandDec=compose(dec,double,inc)\n",
        "IncDobleandDec(10)"
      ],
      "execution_count": null,
      "outputs": [
        {
          "output_type": "execute_result",
          "data": {
            "text/plain": [
              "21"
            ]
          },
          "metadata": {
            "tags": []
          },
          "execution_count": 8
        }
      ]
    },
    {
      "cell_type": "markdown",
      "metadata": {
        "id": "xUnucvxPFZGq",
        "colab_type": "text"
      },
      "source": [
        "Recursive Functions"
      ]
    },
    {
      "cell_type": "code",
      "metadata": {
        "id": "W0aZ33nhE2nZ",
        "colab_type": "code",
        "colab": {
          "base_uri": "https://localhost:8080/",
          "height": 34
        },
        "outputId": "d88a77ca-e968-4b75-b5c7-92c10943b78a"
      },
      "source": [
        "def factorial(num):\n",
        "  if num==1:\n",
        "    return 1\n",
        "  else:\n",
        "    return (num * factorial(num-1))\n",
        "x=factorial(5)\n",
        "print(x)"
      ],
      "execution_count": null,
      "outputs": [
        {
          "output_type": "stream",
          "text": [
            "120\n"
          ],
          "name": "stdout"
        }
      ]
    },
    {
      "cell_type": "markdown",
      "metadata": {
        "id": "2fkHgNGZGroK",
        "colab_type": "text"
      },
      "source": [
        "Anonymous or Lambda Function"
      ]
    },
    {
      "cell_type": "code",
      "metadata": {
        "id": "UuTVEQJ4Fvuk",
        "colab_type": "code",
        "colab": {
          "base_uri": "https://localhost:8080/",
          "height": 34
        },
        "outputId": "d1c24695-409a-4098-8498-b8cbe44dd745"
      },
      "source": [
        "value = lambda num:num*2\n",
        "print(value(2))"
      ],
      "execution_count": null,
      "outputs": [
        {
          "output_type": "stream",
          "text": [
            "4\n"
          ],
          "name": "stdout"
        }
      ]
    },
    {
      "cell_type": "markdown",
      "metadata": {
        "id": "PvoBjii0G8Ai",
        "colab_type": "text"
      },
      "source": [
        "Lambda Function With Filter"
      ]
    },
    {
      "cell_type": "code",
      "metadata": {
        "id": "V5nuptmwG21y",
        "colab_type": "code",
        "colab": {
          "base_uri": "https://localhost:8080/",
          "height": 52
        },
        "outputId": "eccc68f2-0a7a-4c1f-b3de-e6f187f1be47"
      },
      "source": [
        "old_list=[21,25,24,27,28,31,33,42]\n",
        "currentList=list(filter(lambda num:num %2==0,old_list))\n",
        "print(currentList)\n",
        "print(old_list)"
      ],
      "execution_count": null,
      "outputs": [
        {
          "output_type": "stream",
          "text": [
            "[24, 28, 42]\n",
            "[21, 25, 24, 27, 28, 31, 33, 42]\n"
          ],
          "name": "stdout"
        }
      ]
    },
    {
      "cell_type": "markdown",
      "metadata": {
        "id": "bTXCMNmoHgxy",
        "colab_type": "text"
      },
      "source": [
        "Lambda Function With Map"
      ]
    },
    {
      "cell_type": "code",
      "metadata": {
        "id": "2UEbsci6HVAh",
        "colab_type": "code",
        "colab": {
          "base_uri": "https://localhost:8080/",
          "height": 52
        },
        "outputId": "2bb93b75-0899-478c-9605-0e1eb4d02194"
      },
      "source": [
        "old_list=[21,25,24,27,28,31,33,42]\n",
        "currentList=list(map(lambda num:num *2,old_list))\n",
        "print(currentList)\n",
        "print(old_list)"
      ],
      "execution_count": null,
      "outputs": [
        {
          "output_type": "stream",
          "text": [
            "[42, 50, 48, 54, 56, 62, 66, 84]\n",
            "[21, 25, 24, 27, 28, 31, 33, 42]\n"
          ],
          "name": "stdout"
        }
      ]
    },
    {
      "cell_type": "markdown",
      "metadata": {
        "id": "NFR4xvJkH3IY",
        "colab_type": "text"
      },
      "source": [
        "Build In Functions"
      ]
    },
    {
      "cell_type": "code",
      "metadata": {
        "id": "bVT9SeFYH6Ph",
        "colab_type": "code",
        "colab": {
          "base_uri": "https://localhost:8080/",
          "height": 34
        },
        "outputId": "439d9131-ea76-4934-f9fc-0ce6581902a5"
      },
      "source": [
        "a=-10\n",
        "print('abs value is {}'.format(abs(a)))"
      ],
      "execution_count": null,
      "outputs": [
        {
          "output_type": "stream",
          "text": [
            "abs value is 10\n"
          ],
          "name": "stdout"
        }
      ]
    },
    {
      "cell_type": "code",
      "metadata": {
        "id": "D0KF2_N2HviX",
        "colab_type": "code",
        "colab": {}
      },
      "source": [
        "import math as jk"
      ],
      "execution_count": null,
      "outputs": []
    },
    {
      "cell_type": "code",
      "metadata": {
        "id": "zQHVL9X5Txho",
        "colab_type": "code",
        "colab": {
          "base_uri": "https://localhost:8080/",
          "height": 34
        },
        "outputId": "2e69d832-0514-46fe-cf2d-2725f2144831"
      },
      "source": [
        "print(jk.cos(180))"
      ],
      "execution_count": null,
      "outputs": [
        {
          "output_type": "stream",
          "text": [
            "-0.5984600690578581\n"
          ],
          "name": "stdout"
        }
      ]
    },
    {
      "cell_type": "code",
      "metadata": {
        "id": "nNRoc0ywIZzx",
        "colab_type": "code",
        "colab": {
          "base_uri": "https://localhost:8080/",
          "height": 86
        },
        "outputId": "978a072e-7f8d-4fdf-ef5f-8c326fde057b"
      },
      "source": [
        "def scope_test():\n",
        "    def do_local():\n",
        "        spam = \"local spam\"\n",
        "\n",
        "    def do_nonlocal():\n",
        "        nonlocal spam\n",
        "        spam = \"nonlocal spam\"\n",
        "\n",
        "    def do_global():\n",
        "        global spam\n",
        "        spam = \"global spam\"\n",
        "\n",
        "    spam = \"test spam\"\n",
        "    do_local()\n",
        "    print(\"After local assignment:\", spam)\n",
        "    do_nonlocal()\n",
        "    print(\"After nonlocal assignment:\", spam)\n",
        "    do_global()\n",
        "    print(\"After global assignment:\", spam)\n",
        "\n",
        "scope_test()\n",
        "print(\"In global scope:\", spam)"
      ],
      "execution_count": null,
      "outputs": [
        {
          "output_type": "stream",
          "text": [
            "After local assignment: test spam\n",
            "After nonlocal assignment: nonlocal spam\n",
            "After global assignment: nonlocal spam\n",
            "In global scope: global spam\n"
          ],
          "name": "stdout"
        }
      ]
    },
    {
      "cell_type": "code",
      "metadata": {
        "id": "x54X-vQWPKCT",
        "colab_type": "code",
        "colab": {
          "base_uri": "https://localhost:8080/",
          "height": 34
        },
        "outputId": "f0e1c8ef-269c-4f6b-f95d-e1cd15c32a0b"
      },
      "source": [
        "class demo:\n",
        "  def add(self,a,b):\n",
        "    print(a+b)\n",
        "demo().add(5,4)\n"
      ],
      "execution_count": null,
      "outputs": [
        {
          "output_type": "stream",
          "text": [
            "9\n"
          ],
          "name": "stdout"
        }
      ]
    },
    {
      "cell_type": "code",
      "metadata": {
        "id": "WBFusZJFPf4M",
        "colab_type": "code",
        "colab": {}
      },
      "source": [
        ""
      ],
      "execution_count": null,
      "outputs": []
    }
  ]
}