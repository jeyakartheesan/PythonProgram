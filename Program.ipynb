{
  "nbformat": 4,
  "nbformat_minor": 0,
  "metadata": {
    "colab": {
      "name": "Program.ipynb",
      "provenance": [],
      "toc_visible": true,
      "authorship_tag": "ABX9TyP+EtPA3jlezxGwRGbMHlti",
      "include_colab_link": true
    },
    "kernelspec": {
      "name": "python3",
      "display_name": "Python 3"
    }
  },
  "cells": [
    {
      "cell_type": "markdown",
      "metadata": {
        "id": "view-in-github",
        "colab_type": "text"
      },
      "source": [
        "<a href=\"https://colab.research.google.com/github/jeyakartheesan/PythonProgram/blob/master/Program.ipynb\" target=\"_parent\"><img src=\"https://colab.research.google.com/assets/colab-badge.svg\" alt=\"Open In Colab\"/></a>"
      ]
    },
    {
      "cell_type": "markdown",
      "metadata": {
        "id": "Tp8U_v4G6iMs",
        "colab_type": "text"
      },
      "source": [
        "# Program 7"
      ]
    },
    {
      "cell_type": "markdown",
      "metadata": {
        "id": "F6Sf_r-z6pII",
        "colab_type": "text"
      },
      "source": [
        "# 1 Find the Largest Among Three Numbers"
      ]
    },
    {
      "cell_type": "code",
      "metadata": {
        "id": "z5fMFD9R6m_g",
        "colab_type": "code",
        "colab": {
          "base_uri": "https://localhost:8080/",
          "height": 69
        },
        "outputId": "2b183534-3127-439b-edab-7e087553e233"
      },
      "source": [
        "first_number=int(input('Enter the first number :'))\n",
        "second_number=int(input('Enter the Second number :'))\n",
        "third_number=int(input('Enter the third number :'))"
      ],
      "execution_count": null,
      "outputs": [
        {
          "output_type": "stream",
          "text": [
            "Enter the first number :15\n",
            "Enter the Second number :25\n",
            "Enter the third number :10\n"
          ],
          "name": "stdout"
        }
      ]
    },
    {
      "cell_type": "code",
      "metadata": {
        "id": "j43rxLSG7V4t",
        "colab_type": "code",
        "colab": {
          "base_uri": "https://localhost:8080/",
          "height": 34
        },
        "outputId": "c5f4c323-5bfb-4c4c-9070-967c98831f09"
      },
      "source": [
        "if first_number>second_number and first_number>third_number:  # 15 >25 and 15>10 ->0 and 1 ->False\n",
        "  print('First number is greater value')\n",
        "elif second_number>third_number:      #25>10 True\n",
        "  print('second number is greater value')\n",
        "else:\n",
        "  print('third number is greater value')\n"
      ],
      "execution_count": null,
      "outputs": [
        {
          "output_type": "stream",
          "text": [
            "second number is greater value\n"
          ],
          "name": "stdout"
        }
      ]
    },
    {
      "cell_type": "markdown",
      "metadata": {
        "id": "KDKv45ii6osq",
        "colab_type": "text"
      },
      "source": [
        "## 2 Check wheather given number is prime or not"
      ]
    },
    {
      "cell_type": "code",
      "metadata": {
        "id": "3Ipg_Akz8dlZ",
        "colab_type": "code",
        "colab": {
          "base_uri": "https://localhost:8080/",
          "height": 52
        },
        "outputId": "1390b5b8-4a46-4240-a7a7-ea8ded5f66a7"
      },
      "source": [
        "\"\"\"\n",
        "  num=11\n",
        "if 11 >1:(condition is true)\n",
        "  for i=2 end=11\n",
        "  if (11%2==0) 11%2=1 1==0(False) incr i=3\n",
        "  if( 11%3==0) 11%3=2 2==0(False) incr i=4\n",
        "  if (11%4==0) 11%4=3 3==0(False) incr i=5\n",
        "  if (11%5==0) 11%5=1 1==0(False) incr i=6\n",
        "  if (11%6==0) 11%6=5 5==0(False) incr i=7\n",
        "  if (11%7==0) 11%7=4 4==0(False) incr i=8\n",
        "  if (11%8==0) 11%8=3 3==0(False) incr i=9\n",
        "  if (11%9==0) 11%9=2 2==0(False) incr i=10\n",
        "  if (11%10==0) 11%10=1 1==0(False) incr i=11\n",
        "  loop condition False\n",
        "  loop else part work to print Given number is Prime\n",
        "\"\"\"\n",
        "num=int(input('Enter the number :'))\n",
        "if num >1:\n",
        "  for i in range(2,num):\n",
        "    if num % i == 0:\n",
        "      print ('Given number is not prime')\n",
        "      break\n",
        "  else:\n",
        "    print('Given number is prime')\n",
        "else:\n",
        "  print('Given number is below 1')\n",
        "\n",
        "\n",
        "\n"
      ],
      "execution_count": null,
      "outputs": [
        {
          "output_type": "stream",
          "text": [
            "Enter the number :11\n",
            "Given number is prime\n"
          ],
          "name": "stdout"
        }
      ]
    },
    {
      "cell_type": "markdown",
      "metadata": {
        "id": "3C5lcjnM_tlQ",
        "colab_type": "text"
      },
      "source": [
        "## 3 Fibonacci Series"
      ]
    },
    {
      "cell_type": "code",
      "metadata": {
        "id": "gL4P4ETH8kdx",
        "colab_type": "code",
        "colab": {
          "base_uri": "https://localhost:8080/",
          "height": 52
        },
        "outputId": "970c86f9-f1d6-4f4e-be23-45e688c51a57"
      },
      "source": [
        "\"\"\" \n",
        "f(0)=0\n",
        "f(1)=1\n",
        "f(2)=1\n",
        "f(n)=f(n-1)+f(n-2)\n",
        "0 1 1 2 3 \n",
        "f s\n",
        "  f s\n",
        "    f s\n",
        "      f s\n",
        "        \n",
        " a=5\n",
        "print f=0 and s=1\n",
        "for 2 end=5\n",
        "next=0+1=1\n",
        "print 1\n",
        "f=1\n",
        "s=1\n",
        "incrment loop x=3\n",
        "next =1+1=2\n",
        "print 2\n",
        "f=1\n",
        "s=2\n",
        "incremnt loop x=4\n",
        "next =1+2=3\n",
        "print 3\n",
        "f=2\n",
        "s=3\n",
        "\"\"\"\n",
        "a=int(input(\"Enter the terms :\"))\n",
        "f=0                                   \n",
        "s=1                                         \n",
        "if a<=0:\n",
        "    print(\"The requested series is :\",f)\n",
        "else:\n",
        "    print(f,s,end=\" \")\n",
        "    for x in range(2,a):\n",
        "        next=f+s                           \n",
        "        print(next,end=\" \")\n",
        "        f=s\n",
        "        s=next\n",
        "\n",
        "\t\t\n"
      ],
      "execution_count": null,
      "outputs": [
        {
          "output_type": "stream",
          "text": [
            "Enter the terms :5\n",
            "0 1 1 2 3 "
          ],
          "name": "stdout"
        }
      ]
    },
    {
      "cell_type": "markdown",
      "metadata": {
        "id": "SHMa7OW1Bwub",
        "colab_type": "text"
      },
      "source": [
        "# 4 Factorial"
      ]
    },
    {
      "cell_type": "code",
      "metadata": {
        "id": "MS6FyOAV8tip",
        "colab_type": "code",
        "colab": {
          "base_uri": "https://localhost:8080/",
          "height": 52
        },
        "outputId": "5798ea1d-3895-4fb1-94b4-274119e656e4"
      },
      "source": [
        "n=int(input(\"Enter number:\"))\n",
        "fact=1\n",
        "while(n>0):\n",
        "    fact=fact*n\n",
        "    n=n-1\n",
        "print(\"Factorial of the number is: \",fact)\n",
        "\"\"\"\n",
        "5!=5*4*3*2*1=120\n",
        "n=5\n",
        "fact=1\n",
        "while 5>0 True:\n",
        "  fact=1*5=5\n",
        "  n=5-1=4\n",
        "  loop increment\n",
        "While 4>0 True:\n",
        "  fact = 5*4 =20\n",
        "  n=4-1=3\n",
        "  loop increment\n",
        "While 3>0 True:\n",
        "  fact = 20*3 =60 \n",
        "  n=3-1=2\n",
        "  loop increment\n",
        "\n",
        "While 2>0 True:\n",
        "  fact =60*2=120\n",
        "  n=2-1=1\n",
        "  loop increment\n",
        "While 1>0 True:\n",
        "  fact =120*1 =120\n",
        "  n=1-1=0\n",
        "  loop increment\n",
        "While 0>0 False:\n",
        "  pass\n",
        "\n",
        "fact =120\n",
        "\"\"\"\n"
      ],
      "execution_count": null,
      "outputs": [
        {
          "output_type": "stream",
          "text": [
            "Enter number:5\n",
            "Factorial of the number is:  120\n"
          ],
          "name": "stdout"
        }
      ]
    },
    {
      "cell_type": "markdown",
      "metadata": {
        "id": "5exh4ZyUDVqu",
        "colab_type": "text"
      },
      "source": [
        "# 5 Palindrom or not"
      ]
    },
    {
      "cell_type": "code",
      "metadata": {
        "id": "90CoMkrxB8-f",
        "colab_type": "code",
        "colab": {
          "base_uri": "https://localhost:8080/",
          "height": 52
        },
        "outputId": "f450938b-5d15-4c6c-f8bb-10674e6cdffc"
      },
      "source": [
        "n=int(input(\"Enter number:\"))\n",
        "temp=n\n",
        "rev=0\n",
        "while(n>0):\n",
        "    dig=n%10\n",
        "    rev=rev*10+dig\n",
        "    n=n//10\n",
        "if(temp==rev):\n",
        "    print(\"The number is a palindrome!\")\n",
        "else:\n",
        "    print(\"The number isn't a palindrome!\")\n",
        "\n",
        "\"\"\"\n",
        "n=101\n",
        "\n",
        "temp=101\n",
        "rev=0\n",
        "while 101>0 True:\n",
        "  dig=101%10=1\n",
        "  rev=0*10+1=1\n",
        "  n=101//10=10\n",
        "  loop increment\n",
        "while 10>0 True:\n",
        "  dig=10%10=0\n",
        "  rev=1*10+0=10\n",
        "  n=10//10=1\n",
        "  loop increment\n",
        "while 1>0 True:\n",
        "  dig=1%10=1\n",
        "  rev=10*10+1=101\n",
        "  n=1//10=0\n",
        "  loop increment\n",
        "while 0>0 False:\n",
        "  pass\n",
        "\n",
        "\"\"\""
      ],
      "execution_count": null,
      "outputs": [
        {
          "output_type": "stream",
          "text": [
            "Enter number:101\n",
            "The number is a palindrome!\n"
          ],
          "name": "stdout"
        }
      ]
    },
    {
      "cell_type": "markdown",
      "metadata": {
        "id": "1Mp39qYAEvGk",
        "colab_type": "text"
      },
      "source": [
        "# 6 Amstrong Number or not"
      ]
    },
    {
      "cell_type": "code",
      "metadata": {
        "id": "aFbCtatyDcvl",
        "colab_type": "code",
        "colab": {
          "base_uri": "https://localhost:8080/",
          "height": 52
        },
        "outputId": "a4b194b2-d515-43ac-8973-723866d139c2"
      },
      "source": [
        "\"\"\"\n",
        "153 = 1*1*1 + 5*5*5 + 3*3*3  // 153 is an Armstrong number.1+125+27\n",
        "\"\"\"\n",
        "num = int(input(\"Enter a number: \"))\n",
        "sum = 0\n",
        "temp = num\n",
        "while temp > 0:\n",
        "   digit = temp % 10\n",
        "   sum += digit ** 3\n",
        "   temp //= 10\n",
        "\n",
        "if num == sum:\n",
        "   print(num,\"is an Armstrong number\")\n",
        "else:\n",
        "   print(num,\"is not an Armstrong number\")\n",
        "\n",
        "\"\"\"\n",
        "num=153\n",
        "sum=0\n",
        "temp=153\n",
        "while 153>0 True:\n",
        "  digit=153%10=3\n",
        "  sum=0+3**3=27\n",
        "  temp=153//10=15\n",
        "  next itration\n",
        "while 15>0 true:\n",
        "  digit=15%10=5\n",
        "  sum=27+5**3=27+125=152\n",
        "  temp=15//10=1\n",
        "  next itration\n",
        "while 1>0 true:\n",
        "  digit=1%10=1\n",
        "  sum=152+1**3=152+1=153\n",
        "  temp=1//10=0\n",
        "  next itration\n",
        "while 0<0 false:\n",
        "  pass\n",
        "\"\"\""
      ],
      "execution_count": null,
      "outputs": [
        {
          "output_type": "stream",
          "text": [
            "Enter a number: 153\n",
            "153 is an Armstrong number\n"
          ],
          "name": "stdout"
        }
      ]
    },
    {
      "cell_type": "markdown",
      "metadata": {
        "id": "t-yIW4J6GjXA",
        "colab_type": "text"
      },
      "source": [
        "## 7 Matrix Addition"
      ]
    },
    {
      "cell_type": "code",
      "metadata": {
        "id": "9BAyrbSjDvpO",
        "colab_type": "code",
        "colab": {
          "base_uri": "https://localhost:8080/",
          "height": 345
        },
        "outputId": "4e6718f9-318e-4811-c3f3-0d1f2618fdf4"
      },
      "source": [
        "a=[]\n",
        "b=[]\n",
        "row=int(input ('Enter the row :'))\n",
        "col=int(input('Enter the column :'))\n",
        "for i in range(0,row):\n",
        "  temp_list=[]\n",
        "  for j in range(0,col):\n",
        "    temp=int(input('Enter the num :'))\n",
        "    temp_list.append(temp)#temp_list=[3,4]\n",
        "  a.append(temp_list)#a=[[1,2],[3,4]]\n",
        "print(a)\n",
        "for i in range(0,row):\n",
        "  for j in range(0,col):\n",
        "    print(a[i][j],end=' ')\n",
        "  print(end='\\n')\n",
        "for i in range(0,row):\n",
        "  temp_list=[]\n",
        "  for j in range(0,col):\n",
        "    temp=int(input('Enter the num :'))\n",
        "    temp_list.append(temp)\n",
        "  b.append(temp_list)\n",
        "print(b)\n",
        "for i in range(0,row):\n",
        "  for j in range(0,col):\n",
        "    print(b[i][j],end=' ')\n",
        "  print(end='\\n')\n",
        "c=[]\n",
        "for i in range(0,row):\n",
        "  temp_list=[]\n",
        "  for j in range(0,col):\n",
        "    temp=a[i][j]+b[i][j]\n",
        "    temp_list.append(temp)#temp_list=[6,8]\n",
        "  c.append(temp_list)# c=[[2,4],[6,8]]\n",
        "print(c)\n",
        "for i in range(0,row):\n",
        "  for j in range(0,col):\n",
        "    print(c[i][j],end=' ')\n",
        "  print(end='\\n')\n"
      ],
      "execution_count": null,
      "outputs": [
        {
          "output_type": "stream",
          "text": [
            "Enter the row :2\n",
            "Enter the column :2\n",
            "Enter the num :1\n",
            "Enter the num :2\n",
            "Enter the num :3\n",
            "Enter the num :4\n",
            "[[1, 2], [3, 4]]\n",
            "1 2 \n",
            "3 4 \n",
            "Enter the num :1\n",
            "Enter the num :2\n",
            "Enter the num :3\n",
            "Enter the num :4\n",
            "[[1, 2], [3, 4]]\n",
            "1 2 \n",
            "3 4 \n",
            "[[2, 4], [6, 8]]\n",
            "2 4 \n",
            "6 8 \n"
          ],
          "name": "stdout"
        }
      ]
    },
    {
      "cell_type": "code",
      "metadata": {
        "id": "ng2kTdNPODb_",
        "colab_type": "code",
        "colab": {}
      },
      "source": [
        ""
      ],
      "execution_count": null,
      "outputs": []
    }
  ]
}